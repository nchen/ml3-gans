{
 "cells": [
  {
   "cell_type": "markdown",
   "metadata": {},
   "source": [
    "# Kaggle Competition: GANs - I’m Something of a Painter Myself\n",
    "\n",
    "<https://www.kaggle.com/competitions/gan-getting-started/overview>\n",
    "\n",
    "Neil Chen, University of Colorado Boulder\n",
    "\n"
   ]
  },
  {
   "cell_type": "markdown",
   "metadata": {},
   "source": []
  }
 ],
 "metadata": {
  "language_info": {
   "name": "python"
  }
 },
 "nbformat": 4,
 "nbformat_minor": 2
}
